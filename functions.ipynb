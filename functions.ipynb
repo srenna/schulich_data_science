{
 "cells": [
  {
   "cell_type": "code",
   "execution_count": 2,
   "metadata": {},
   "outputs": [
    {
     "name": "stdout",
     "output_type": "stream",
     "text": [
      "11\n",
      "-1\n",
      "30\n"
     ]
    }
   ],
   "source": [
    "# generate  a function that adds two numbers\n",
    "def add(a,b):\n",
    "    return a+b\n",
    "# generate a function that subtracts two numbers\n",
    "def subtract(a,b):\n",
    "    return a-b\n",
    "# generate a function that multiplies two numbers\n",
    "def multiply(a,b):\n",
    "    return a*b\n",
    "\n",
    "# call the functions with the values 5 and 6\n",
    "print(add(5,6))\n",
    "print(subtract(5,6))\n",
    "print(multiply(5,6))"
   ]
  },
  {
   "cell_type": "code",
   "execution_count": 2,
   "metadata": {},
   "outputs": [
    {
     "name": "stdout",
     "output_type": "stream",
     "text": [
      "Sabrina\n",
      "Renna\n"
     ]
    }
   ],
   "source": [
    "# write code to take name inputs from the user and split the name into first and last name\n",
    "name = input(\"Enter your name: \")\n",
    "first_name = name.split()[0]\n",
    "last_name = name.split()[1]\n",
    "print(first_name)\n",
    "print(last_name)\n"
   ]
  }
 ],
 "metadata": {
  "kernelspec": {
   "display_name": "Python 3",
   "language": "python",
   "name": "python3"
  },
  "language_info": {
   "codemirror_mode": {
    "name": "ipython",
    "version": 3
   },
   "file_extension": ".py",
   "mimetype": "text/x-python",
   "name": "python",
   "nbconvert_exporter": "python",
   "pygments_lexer": "ipython3",
   "version": "3.11.1"
  },
  "orig_nbformat": 4
 },
 "nbformat": 4,
 "nbformat_minor": 2
}
